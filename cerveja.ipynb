{
 "cells": [
  {
   "cell_type": "code",
   "execution_count": 1,
   "id": "1327d8c3",
   "metadata": {},
   "outputs": [],
   "source": [
    "import os"
   ]
  },
  {
   "cell_type": "code",
   "execution_count": 2,
   "id": "c539bc41",
   "metadata": {},
   "outputs": [],
   "source": [
    "from selenium import webdriver\n",
    "# conda install selenium\n",
    "# conda install -c conda-forge selenium\n",
    "\n",
    "from bs4 import BeautifulSoup\n",
    "import requests\n",
    "from selenium.webdriver.chrome.options import Options\n",
    "import datetime\n",
    "import time as tm"
   ]
  },
  {
   "cell_type": "code",
   "execution_count": 3,
   "id": "73e26d7d",
   "metadata": {
    "scrolled": true
   },
   "outputs": [],
   "source": [
    "driver = webdriver.Chrome(executable_path = 'C:\\\\Users\\\\User\\\\Downloads\\\\chromedriver')"
   ]
  },
  {
   "cell_type": "code",
   "execution_count": 4,
   "id": "bb8a4a52",
   "metadata": {
    "scrolled": true
   },
   "outputs": [],
   "source": [
    "driver = webdriver.Chrome()"
   ]
  },
  {
   "cell_type": "code",
   "execution_count": 5,
   "id": "d3e6267f",
   "metadata": {},
   "outputs": [],
   "source": [
    "pao = \"https://www.paodeacucar.com/busca?terms=cerveja&qt=12&p=2&gt=grid\""
   ]
  },
  {
   "cell_type": "code",
   "execution_count": 6,
   "id": "e8318c29",
   "metadata": {},
   "outputs": [],
   "source": [
    "driver.get(pao)"
   ]
  },
  {
   "cell_type": "code",
   "execution_count": 7,
   "id": "2159cb5a",
   "metadata": {
    "scrolled": true
   },
   "outputs": [],
   "source": [
    "html_source = driver.page_source"
   ]
  },
  {
   "cell_type": "code",
   "execution_count": 8,
   "id": "09703f6b",
   "metadata": {
    "scrolled": true
   },
   "outputs": [
    {
     "data": {
      "text/plain": [
       "True"
      ]
     },
     "execution_count": 8,
     "metadata": {},
     "output_type": "execute_result"
    }
   ],
   "source": [
    "'corona' in html_source "
   ]
  },
  {
   "cell_type": "code",
   "execution_count": 9,
   "id": "4d224293",
   "metadata": {},
   "outputs": [],
   "source": [
    "soup = BeautifulSoup(html_source, 'lxml')"
   ]
  },
  {
   "cell_type": "code",
   "execution_count": 10,
   "id": "701e618d",
   "metadata": {
    "scrolled": true
   },
   "outputs": [],
   "source": [
    "cerveja = soup.find_all('a', attrs={'class' : \"product-cardstyles__Link-sc-1uwpde0-9 bSQmwP hyperlinkstyles__Link-j02w35-0 hcByGl\"})"
   ]
  },
  {
   "cell_type": "code",
   "execution_count": 11,
   "id": "1ab75ef4",
   "metadata": {
    "scrolled": true
   },
   "outputs": [
    {
     "data": {
      "text/plain": [
       "[<a class=\"product-cardstyles__Link-sc-1uwpde0-9 bSQmwP hyperlinkstyles__Link-j02w35-0 hcByGl\" font-family=\"primaryMedium\" font-size=\"16\" href=\"/produto/71886/cerveja-stella-artois-puro-malte-269ml-lata\">Cerveja Stella Artois Puro Malte 269ml Lata</a>,\n",
       " <a class=\"product-cardstyles__Link-sc-1uwpde0-9 bSQmwP hyperlinkstyles__Link-j02w35-0 hcByGl\" font-family=\"primaryMedium\" font-size=\"16\" href=\"/produto/459213/cerveja-stella-artois-puro-malte-350ml-lata\">Cerveja Stella Artois Puro Malte 350ml Lata</a>,\n",
       " <a class=\"product-cardstyles__Link-sc-1uwpde0-9 bSQmwP hyperlinkstyles__Link-j02w35-0 hcByGl\" font-family=\"primaryMedium\" font-size=\"16\" href=\"/produto/323696/cerveja-budweiser-american-lager-269ml-lata\">Cerveja Budweiser American Lager 269ml Lata</a>,\n",
       " <a class=\"product-cardstyles__Link-sc-1uwpde0-9 bSQmwP hyperlinkstyles__Link-j02w35-0 hcByGl\" font-family=\"primaryMedium\" font-size=\"16\" href=\"/produto/456783/cerveja-corona-extra-pilsen-330ml-long-neck\">Cerveja Corona Extra Pilsen 330ml Long Neck</a>,\n",
       " <a class=\"product-cardstyles__Link-sc-1uwpde0-9 bSQmwP hyperlinkstyles__Link-j02w35-0 hcByGl\" font-family=\"primaryMedium\" font-size=\"16\" href=\"/produto/451129/cerveja-becks-puro-malte-330ml-long-neck\">Cerveja Becks Puro Malte 330ml Long Neck</a>,\n",
       " <a class=\"product-cardstyles__Link-sc-1uwpde0-9 bSQmwP hyperlinkstyles__Link-j02w35-0 hcByGl\" font-family=\"primaryMedium\" font-size=\"16\" href=\"/produto/462219/cerveja-brahma-duplo-malte-puro-malte-350ml-lata\">Cerveja Brahma Duplo Malte Puro Malte 350ml Lata</a>,\n",
       " <a class=\"product-cardstyles__Link-sc-1uwpde0-9 bSQmwP hyperlinkstyles__Link-j02w35-0 hcByGl\" font-family=\"primaryMedium\" font-size=\"16\" href=\"/produto/430567/cerveja-goose-island-midway-long-neck-355ml\">Cerveja Goose Island Midway Long Neck 355ml</a>,\n",
       " <a class=\"product-cardstyles__Link-sc-1uwpde0-9 bSQmwP hyperlinkstyles__Link-j02w35-0 hcByGl\" font-family=\"primaryMedium\" font-size=\"16\" href=\"/produto/148184/cerveja-belga-hoegaarden-witbier-garrafa-330ml-importada\">Cerveja Belga HOEGAARDEN Witbier Garrafa 330ml Importada</a>,\n",
       " <a class=\"product-cardstyles__Link-sc-1uwpde0-9 bSQmwP hyperlinkstyles__Link-j02w35-0 hcByGl\" font-family=\"primaryMedium\" font-size=\"16\" href=\"/produto/448385/cerveja-patagonia-bohemian-pilsener-garrafa-740ml\">Cerveja PATAGONIA Bohemian Pilsener Garrafa 740ml</a>,\n",
       " <a class=\"product-cardstyles__Link-sc-1uwpde0-9 bSQmwP hyperlinkstyles__Link-j02w35-0 hcByGl\" font-family=\"primaryMedium\" font-size=\"16\" href=\"/produto/67500/cerveja-colorado-appia-garrafa-600ml\">Cerveja COLORADO Appia Garrafa 600ml</a>,\n",
       " <a class=\"product-cardstyles__Link-sc-1uwpde0-9 bSQmwP hyperlinkstyles__Link-j02w35-0 hcByGl\" font-family=\"primaryMedium\" font-size=\"16\" href=\"/produto/67932/cerveja-colorado-indica-garrafa-600ml\">Cerveja COLORADO Indica Garrafa 600ML</a>,\n",
       " <a class=\"product-cardstyles__Link-sc-1uwpde0-9 bSQmwP hyperlinkstyles__Link-j02w35-0 hcByGl\" font-family=\"primaryMedium\" font-size=\"16\" href=\"/produto/479389/cerveja-pilsen-antarctica-original-lata-269ml\">Cerveja Pilsen Antarctica Original Lata 269ml</a>]"
      ]
     },
     "execution_count": 11,
     "metadata": {},
     "output_type": "execute_result"
    }
   ],
   "source": [
    "cerveja"
   ]
  },
  {
   "cell_type": "code",
   "execution_count": 12,
   "id": "1806f159",
   "metadata": {
    "scrolled": true
   },
   "outputs": [
    {
     "name": "stdout",
     "output_type": "stream",
     "text": [
      "Cerveja Stella Artois Puro Malte 269ml Lata\n",
      "Cerveja Stella Artois Puro Malte 350ml Lata\n",
      "Cerveja Budweiser American Lager 269ml Lata\n",
      "Cerveja Corona Extra Pilsen 330ml Long Neck\n",
      "Cerveja Becks Puro Malte 330ml Long Neck\n",
      "Cerveja Brahma Duplo Malte Puro Malte 350ml Lata\n",
      "Cerveja Goose Island Midway Long Neck 355ml\n",
      "Cerveja Belga HOEGAARDEN Witbier Garrafa 330ml Importada\n",
      "Cerveja PATAGONIA Bohemian Pilsener Garrafa 740ml\n",
      "Cerveja COLORADO Appia Garrafa 600ml\n",
      "Cerveja COLORADO Indica Garrafa 600ML\n",
      "Cerveja Pilsen Antarctica Original Lata 269ml\n"
     ]
    }
   ],
   "source": [
    "for breja in cerveja:\n",
    "    print(breja.text)"
   ]
  },
  {
   "cell_type": "code",
   "execution_count": 13,
   "id": "1a044245",
   "metadata": {},
   "outputs": [],
   "source": [
    "preço = soup.find_all('div', attrs={'class' : 'price-tag-normalstyle__LabelPrice-sc-1co9fex-0 lkWvql'})"
   ]
  },
  {
   "cell_type": "code",
   "execution_count": 14,
   "id": "f61febd4",
   "metadata": {
    "scrolled": true
   },
   "outputs": [
    {
     "data": {
      "text/plain": [
       "[<div class=\"price-tag-normalstyle__LabelPrice-sc-1co9fex-0 lkWvql\" size=\"16\">R$3,49</div>,\n",
       " <div class=\"price-tag-normalstyle__LabelPrice-sc-1co9fex-0 lkWvql\" size=\"16\">R$4,19</div>,\n",
       " <div class=\"price-tag-normalstyle__LabelPrice-sc-1co9fex-0 lkWvql\" size=\"16\">R$3,19</div>,\n",
       " <div class=\"price-tag-normalstyle__LabelPrice-sc-1co9fex-0 lkWvql\" size=\"16\">R$5,99</div>,\n",
       " <div class=\"price-tag-normalstyle__LabelPrice-sc-1co9fex-0 lkWvql\" size=\"16\">R$5,79</div>,\n",
       " <div class=\"price-tag-normalstyle__LabelPrice-sc-1co9fex-0 lkWvql\" size=\"16\">R$3,19</div>,\n",
       " <div class=\"price-tag-normalstyle__LabelPrice-sc-1co9fex-0 lkWvql\" size=\"16\">R$8,99</div>,\n",
       " <div class=\"price-tag-normalstyle__LabelPrice-sc-1co9fex-0 lkWvql\" size=\"16\">R$8,99</div>,\n",
       " <div class=\"price-tag-normalstyle__LabelPrice-sc-1co9fex-0 lkWvql\" size=\"16\">R$12,99</div>,\n",
       " <div class=\"price-tag-normalstyle__LabelPrice-sc-1co9fex-0 lkWvql\" size=\"16\">R$11,29</div>,\n",
       " <div class=\"price-tag-normalstyle__LabelPrice-sc-1co9fex-0 lkWvql\" size=\"16\">R$12,99</div>,\n",
       " <div class=\"price-tag-normalstyle__LabelPrice-sc-1co9fex-0 lkWvql\" size=\"16\">R$2,69</div>]"
      ]
     },
     "execution_count": 14,
     "metadata": {},
     "output_type": "execute_result"
    }
   ],
   "source": [
    "preço"
   ]
  },
  {
   "cell_type": "code",
   "execution_count": 15,
   "id": "4c860b05",
   "metadata": {
    "scrolled": true
   },
   "outputs": [
    {
     "name": "stdout",
     "output_type": "stream",
     "text": [
      "R$3,49\n",
      "R$4,19\n",
      "R$3,19\n",
      "R$5,99\n",
      "R$5,79\n",
      "R$3,19\n",
      "R$8,99\n",
      "R$8,99\n",
      "R$12,99\n",
      "R$11,29\n",
      "R$12,99\n",
      "R$2,69\n"
     ]
    }
   ],
   "source": [
    "for din in preço:\n",
    "    print(din.text)"
   ]
  },
  {
   "cell_type": "code",
   "execution_count": null,
   "id": "b711832a",
   "metadata": {},
   "outputs": [],
   "source": []
  },
  {
   "cell_type": "code",
   "execution_count": 16,
   "id": "5aeaa2c9",
   "metadata": {
    "scrolled": true
   },
   "outputs": [
    {
     "name": "stdout",
     "output_type": "stream",
     "text": [
      "R$3,49\n",
      "R$4,19\n",
      "R$3,19\n",
      "R$5,99\n",
      "R$5,79\n",
      "R$3,19\n",
      "R$8,99\n",
      "R$8,99\n",
      "R$12,99\n",
      "R$11,29\n",
      "R$12,99\n",
      "R$2,69\n"
     ]
    }
   ],
   "source": [
    "numeros = []\n",
    "for i in preço:\n",
    "    print(i.text)\n",
    "    numeros.append(i.text)"
   ]
  },
  {
   "cell_type": "code",
   "execution_count": 17,
   "id": "843c1c2f",
   "metadata": {
    "scrolled": false
   },
   "outputs": [
    {
     "data": {
      "text/plain": [
       "['R$3,49',\n",
       " 'R$4,19',\n",
       " 'R$3,19',\n",
       " 'R$5,99',\n",
       " 'R$5,79',\n",
       " 'R$3,19',\n",
       " 'R$8,99',\n",
       " 'R$8,99',\n",
       " 'R$12,99',\n",
       " 'R$11,29',\n",
       " 'R$12,99',\n",
       " 'R$2,69']"
      ]
     },
     "execution_count": 17,
     "metadata": {},
     "output_type": "execute_result"
    }
   ],
   "source": [
    "numeros"
   ]
  },
  {
   "cell_type": "code",
   "execution_count": 18,
   "id": "4023b91b",
   "metadata": {
    "scrolled": false
   },
   "outputs": [
    {
     "name": "stdout",
     "output_type": "stream",
     "text": [
      "Cerveja Stella Artois Puro Malte 269ml Lata\n",
      "Cerveja Stella Artois Puro Malte 350ml Lata\n",
      "Cerveja Budweiser American Lager 269ml Lata\n",
      "Cerveja Corona Extra Pilsen 330ml Long Neck\n",
      "Cerveja Becks Puro Malte 330ml Long Neck\n",
      "Cerveja Brahma Duplo Malte Puro Malte 350ml Lata\n",
      "Cerveja Goose Island Midway Long Neck 355ml\n",
      "Cerveja Belga HOEGAARDEN Witbier Garrafa 330ml Importada\n",
      "Cerveja PATAGONIA Bohemian Pilsener Garrafa 740ml\n",
      "Cerveja COLORADO Appia Garrafa 600ml\n",
      "Cerveja COLORADO Indica Garrafa 600ML\n",
      "Cerveja Pilsen Antarctica Original Lata 269ml\n"
     ]
    }
   ],
   "source": [
    "numeros2 = []\n",
    "for j in cerveja:\n",
    "    print(j.text)\n",
    "    numeros2.append(j.text)"
   ]
  },
  {
   "cell_type": "code",
   "execution_count": 19,
   "id": "3a456ba8",
   "metadata": {
    "scrolled": false
   },
   "outputs": [
    {
     "data": {
      "text/plain": [
       "['Cerveja Stella Artois Puro Malte 269ml Lata',\n",
       " 'Cerveja Stella Artois Puro Malte 350ml Lata',\n",
       " 'Cerveja Budweiser American Lager 269ml Lata',\n",
       " 'Cerveja Corona Extra Pilsen 330ml Long Neck',\n",
       " 'Cerveja Becks Puro Malte 330ml Long Neck',\n",
       " 'Cerveja Brahma Duplo Malte Puro Malte 350ml Lata',\n",
       " 'Cerveja Goose Island Midway Long Neck 355ml',\n",
       " 'Cerveja Belga HOEGAARDEN Witbier Garrafa 330ml Importada',\n",
       " 'Cerveja PATAGONIA Bohemian Pilsener Garrafa 740ml',\n",
       " 'Cerveja COLORADO Appia Garrafa 600ml',\n",
       " 'Cerveja COLORADO Indica Garrafa 600ML',\n",
       " 'Cerveja Pilsen Antarctica Original Lata 269ml']"
      ]
     },
     "execution_count": 19,
     "metadata": {},
     "output_type": "execute_result"
    }
   ],
   "source": [
    "numeros2"
   ]
  },
  {
   "cell_type": "code",
   "execution_count": null,
   "id": "7475f4db",
   "metadata": {},
   "outputs": [],
   "source": []
  },
  {
   "cell_type": "code",
   "execution_count": 25,
   "id": "13ae60bf",
   "metadata": {},
   "outputs": [],
   "source": [
    "import time as tm"
   ]
  },
  {
   "cell_type": "code",
   "execution_count": 27,
   "id": "41ed644e",
   "metadata": {},
   "outputs": [
    {
     "name": "stdout",
     "output_type": "stream",
     "text": [
      "Cerveja Stella Artois Puro Malte 269ml Lata\t, R$3,49\t, Sun Mar 13 21:16:56 2022\n",
      "\n",
      "Cerveja Stella Artois Puro Malte 350ml Lata\t, R$4,19\t, Sun Mar 13 21:17:06 2022\n",
      "\n",
      "Cerveja Budweiser American Lager 269ml Lata\t, R$3,19\t, Sun Mar 13 21:17:16 2022\n",
      "\n",
      "Cerveja Corona Extra Pilsen 330ml Long Neck\t, R$5,99\t, Sun Mar 13 21:17:26 2022\n",
      "\n",
      "Cerveja Becks Puro Malte 330ml Long Neck\t, R$5,79\t, Sun Mar 13 21:17:36 2022\n",
      "\n",
      "Cerveja Brahma Duplo Malte Puro Malte 350ml Lata\t, R$3,19\t, Sun Mar 13 21:17:46 2022\n",
      "\n",
      "Cerveja Goose Island Midway Long Neck 355ml\t, R$8,99\t, Sun Mar 13 21:17:56 2022\n",
      "\n",
      "Cerveja Belga HOEGAARDEN Witbier Garrafa 330ml Importada\t, R$8,99\t, Sun Mar 13 21:18:06 2022\n",
      "\n",
      "Cerveja PATAGONIA Bohemian Pilsener Garrafa 740ml\t, R$12,99\t, Sun Mar 13 21:18:16 2022\n",
      "\n",
      "Cerveja COLORADO Appia Garrafa 600ml\t, R$11,29\t, Sun Mar 13 21:18:26 2022\n",
      "\n",
      "Cerveja COLORADO Indica Garrafa 600ML\t, R$12,99\t, Sun Mar 13 21:18:36 2022\n",
      "\n",
      "Cerveja Pilsen Antarctica Original Lata 269ml\t, R$2,69\t, Sun Mar 13 21:18:46 2022\n",
      "\n",
      "Cerveja Becks Puro Malte 350ml Lata\t, R$4,79\t, Sun Mar 13 21:18:56 2022\n",
      "\n",
      "Cerveja AMSTEL Lager Lata 350ml - Caixa com 12 Unidades\t, R$40,68\t, Sun Mar 13 21:19:06 2022\n",
      "\n",
      "Cerveja HEINEKEN Lata 350ml\t, R$4,79\t, Sun Mar 13 21:19:16 2022\n",
      "\n",
      "Cerveja Puro Malte Petra Origem Lata 350ml\t, R$3,09\t, Sun Mar 13 21:19:26 2022\n",
      "\n",
      "Cerveja Puro Malte TIGER Lata 350ml\t, R$3,39\t, Sun Mar 13 21:19:37 2022\n",
      "\n",
      "Cerveja Amber Lager Puro Malte Cacildis Lata 350ml\t, R$3,79\t, Sun Mar 13 21:19:47 2022\n",
      "\n",
      "Cerveja Pilsen Puro Malte Eisenbahn Lata 269ml\t, R$3,29\t, Sun Mar 13 21:19:57 2022\n",
      "\n",
      "Cerveja AMSTEL Lager Lata 269ml - Pack com 12 latas\t, R$31,08\t, Sun Mar 13 21:20:07 2022\n",
      "\n"
     ]
    }
   ],
   "source": [
    "driver = webdriver.Chrome()\n",
    "pao = \"https://www.paodeacucar.com/busca?terms=cerveja&qt=12&p=2&gt=grid\"\n",
    "driver.get(pao)\n",
    "\n",
    "driver.execute_script(\"window.scrollTo(0, document.body.scrollHeight);\")\n",
    "\n",
    "tm.sleep(10)\n",
    "\n",
    "html_source = driver.page_source\n",
    "soup = BeautifulSoup(html_source, 'lxml')\n",
    "tm.sleep(10)\n",
    "\n",
    "for i in range(0,20):    \n",
    "    \n",
    "    cerveja = soup.find_all('a', 'product-cardstyles__Link-sc-1uwpde0-9 bSQmwP hyperlinkstyles__Link-j02w35-0 hcByGl')[i].text\n",
    "    time = datetime.datetime.today().strftime('%c')\n",
    "    try:\n",
    "        preço = soup.find_all('div', 'price-tag-normalstyle__LabelPrice-sc-1co9fex-0 lkWvql')[i].text\n",
    "\n",
    "    except:\n",
    "        preço = 'não tem'\n",
    "    pass\n",
    "\n",
    "    tm.sleep(10)\n",
    "      \n",
    "    print ('%s\\t, %s\\t, %s\\n' % (cerveja, preço, time))"
   ]
  },
  {
   "cell_type": "code",
   "execution_count": null,
   "id": "b82262c4",
   "metadata": {},
   "outputs": [],
   "source": []
  },
  {
   "cell_type": "code",
   "execution_count": null,
   "id": "7e426a0e",
   "metadata": {},
   "outputs": [],
   "source": []
  },
  {
   "cell_type": "code",
   "execution_count": null,
   "id": "bee26f07",
   "metadata": {},
   "outputs": [],
   "source": []
  },
  {
   "cell_type": "code",
   "execution_count": null,
   "id": "0b5f1607",
   "metadata": {},
   "outputs": [],
   "source": []
  },
  {
   "cell_type": "code",
   "execution_count": null,
   "id": "6bc1d32c",
   "metadata": {},
   "outputs": [],
   "source": []
  },
  {
   "cell_type": "code",
   "execution_count": null,
   "id": "6810fc8d",
   "metadata": {},
   "outputs": [],
   "source": []
  },
  {
   "cell_type": "code",
   "execution_count": null,
   "id": "2293d56a",
   "metadata": {},
   "outputs": [],
   "source": []
  },
  {
   "cell_type": "code",
   "execution_count": null,
   "id": "6cd2875b",
   "metadata": {},
   "outputs": [],
   "source": []
  },
  {
   "cell_type": "code",
   "execution_count": null,
   "id": "e1f86abb",
   "metadata": {},
   "outputs": [],
   "source": []
  },
  {
   "cell_type": "code",
   "execution_count": null,
   "id": "c37f72b6",
   "metadata": {},
   "outputs": [],
   "source": []
  }
 ],
 "metadata": {
  "kernelspec": {
   "display_name": "Python 3",
   "language": "python",
   "name": "python3"
  },
  "language_info": {
   "codemirror_mode": {
    "name": "ipython",
    "version": 3
   },
   "file_extension": ".py",
   "mimetype": "text/x-python",
   "name": "python",
   "nbconvert_exporter": "python",
   "pygments_lexer": "ipython3",
   "version": "3.8.8"
  }
 },
 "nbformat": 4,
 "nbformat_minor": 5
}
